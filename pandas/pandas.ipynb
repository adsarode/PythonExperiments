{
 "cells": [
  {
   "cell_type": "markdown",
   "metadata": {},
   "source": [
    "# pandas\n",
    "\n",
    "Supports reading from and writing to various data sources. Supports heterogeneous  data.\n",
    "Efficient in handling large amounts of data."
   ]
  },
  {
   "cell_type": "code",
   "execution_count": 1,
   "metadata": {},
   "outputs": [],
   "source": [
    "from os import path\n",
    "fname = path.expanduser(r'.\\track.csv')"
   ]
  },
  {
   "cell_type": "code",
   "execution_count": 2,
   "metadata": {},
   "outputs": [
    {
     "name": "stdout",
     "output_type": "stream",
     "text": [
      " Volume in drive C is OS\n",
      " Volume Serial Number is CA73-C4BC\n",
      "\n",
      " Directory of C:\\D2\\MyGithub\\PythonExpteriments\\pandas\n",
      "\n",
      "04/08/2017  03:18 AM            43,844 track.csv\n",
      "               1 File(s)         43,844 bytes\n",
      "               0 Dir(s)  314,675,666,944 bytes free\n"
     ]
    }
   ],
   "source": [
    "!dir \"$fname\""
   ]
  },
  {
   "cell_type": "code",
   "execution_count": 3,
   "metadata": {},
   "outputs": [
    {
     "data": {
      "text/plain": [
       "43844"
      ]
     },
     "execution_count": 3,
     "metadata": {},
     "output_type": "execute_result"
    }
   ],
   "source": [
    "path.getsize(fname)"
   ]
  },
  {
   "cell_type": "code",
   "execution_count": 4,
   "metadata": {},
   "outputs": [
    {
     "name": "stdout",
     "output_type": "stream",
     "text": [
      "time,lat,lng,height\n",
      "2015-08-20 03:48:07.235,35.015021,32.519585,136.1999969482422\n",
      "2015-08-20 03:48:24.734,35.014954,32.519606,126.5999984741211\n",
      "2015-08-20 03:48:25.660,35.014871,32.519612,123.0\n",
      "2015-08-20 03:48:26.819,35.014824,32.519654,120.5\n",
      "2015-08-20 03:48:27.828,35.014776,32.519689,118.9000015258789\n",
      "2015-08-20 03:48:29.720,35.014704,32.519691,119.9000015258789\n",
      "2015-08-20 03:48:30.669,35.014657,32.519734,120.9000015258789\n",
      "2015-08-20 03:48:33.793,35.014563,32.519719,121.69999694824219\n",
      "2015-08-20 03:48:34.869,35.014549,32.519694,121.19999694824219\n",
      "2015-08-20 03:48:37.708,35.014515,32.519625,121.69999694824219\n"
     ]
    }
   ],
   "source": [
    "with open(fname) as fp:\n",
    "    for line_num, line in enumerate(fp):\n",
    "        if line_num > 10:\n",
    "            break\n",
    "        print(line[:-1])"
   ]
  },
  {
   "cell_type": "code",
   "execution_count": 5,
   "metadata": {},
   "outputs": [
    {
     "name": "stdout",
     "output_type": "stream",
     "text": [
      "741\n"
     ]
    }
   ],
   "source": [
    "with open(fname) as fp:\n",
    "    print(sum(1 for line in fp))"
   ]
  },
  {
   "cell_type": "code",
   "execution_count": 6,
   "metadata": {},
   "outputs": [],
   "source": [
    "import pandas as pd"
   ]
  },
  {
   "cell_type": "markdown",
   "metadata": {},
   "source": [
    "# read cvs files"
   ]
  },
  {
   "cell_type": "code",
   "execution_count": 7,
   "metadata": {},
   "outputs": [],
   "source": [
    "df = pd.read_csv(fname)"
   ]
  },
  {
   "cell_type": "code",
   "execution_count": 8,
   "metadata": {},
   "outputs": [
    {
     "data": {
      "text/plain": [
       "740"
      ]
     },
     "execution_count": 8,
     "metadata": {},
     "output_type": "execute_result"
    }
   ],
   "source": [
    "len(df)"
   ]
  },
  {
   "cell_type": "code",
   "execution_count": 9,
   "metadata": {},
   "outputs": [
    {
     "name": "stdout",
     "output_type": "stream",
     "text": [
      "<class 'pandas.core.frame.DataFrame'>\n",
      "RangeIndex: 740 entries, 0 to 739\n",
      "Data columns (total 4 columns):\n",
      "time      740 non-null object\n",
      "lat       740 non-null float64\n",
      "lng       740 non-null float64\n",
      "height    740 non-null float64\n",
      "dtypes: float64(3), object(1)\n",
      "memory usage: 23.2+ KB\n"
     ]
    }
   ],
   "source": [
    "df.info()"
   ]
  },
  {
   "cell_type": "code",
   "execution_count": 10,
   "metadata": {},
   "outputs": [
    {
     "data": {
      "text/html": [
       "<div>\n",
       "<style scoped>\n",
       "    .dataframe tbody tr th:only-of-type {\n",
       "        vertical-align: middle;\n",
       "    }\n",
       "\n",
       "    .dataframe tbody tr th {\n",
       "        vertical-align: top;\n",
       "    }\n",
       "\n",
       "    .dataframe thead th {\n",
       "        text-align: right;\n",
       "    }\n",
       "</style>\n",
       "<table border=\"1\" class=\"dataframe\">\n",
       "  <thead>\n",
       "    <tr style=\"text-align: right;\">\n",
       "      <th></th>\n",
       "      <th>time</th>\n",
       "      <th>lat</th>\n",
       "      <th>lng</th>\n",
       "      <th>height</th>\n",
       "    </tr>\n",
       "  </thead>\n",
       "  <tbody>\n",
       "    <tr>\n",
       "      <th>0</th>\n",
       "      <td>2015-08-20 03:48:07.235</td>\n",
       "      <td>35.015021</td>\n",
       "      <td>32.519585</td>\n",
       "      <td>136.199997</td>\n",
       "    </tr>\n",
       "    <tr>\n",
       "      <th>1</th>\n",
       "      <td>2015-08-20 03:48:24.734</td>\n",
       "      <td>35.014954</td>\n",
       "      <td>32.519606</td>\n",
       "      <td>126.599998</td>\n",
       "    </tr>\n",
       "    <tr>\n",
       "      <th>2</th>\n",
       "      <td>2015-08-20 03:48:25.660</td>\n",
       "      <td>35.014871</td>\n",
       "      <td>32.519612</td>\n",
       "      <td>123.000000</td>\n",
       "    </tr>\n",
       "    <tr>\n",
       "      <th>3</th>\n",
       "      <td>2015-08-20 03:48:26.819</td>\n",
       "      <td>35.014824</td>\n",
       "      <td>32.519654</td>\n",
       "      <td>120.500000</td>\n",
       "    </tr>\n",
       "    <tr>\n",
       "      <th>4</th>\n",
       "      <td>2015-08-20 03:48:27.828</td>\n",
       "      <td>35.014776</td>\n",
       "      <td>32.519689</td>\n",
       "      <td>118.900002</td>\n",
       "    </tr>\n",
       "  </tbody>\n",
       "</table>\n",
       "</div>"
      ],
      "text/plain": [
       "                      time        lat        lng      height\n",
       "0  2015-08-20 03:48:07.235  35.015021  32.519585  136.199997\n",
       "1  2015-08-20 03:48:24.734  35.014954  32.519606  126.599998\n",
       "2  2015-08-20 03:48:25.660  35.014871  32.519612  123.000000\n",
       "3  2015-08-20 03:48:26.819  35.014824  32.519654  120.500000\n",
       "4  2015-08-20 03:48:27.828  35.014776  32.519689  118.900002"
      ]
     },
     "execution_count": 10,
     "metadata": {},
     "output_type": "execute_result"
    }
   ],
   "source": [
    "df.head()"
   ]
  },
  {
   "cell_type": "code",
   "execution_count": 11,
   "metadata": {},
   "outputs": [
    {
     "data": {
      "text/plain": [
       "time       object\n",
       "lat       float64\n",
       "lng       float64\n",
       "height    float64\n",
       "dtype: object"
      ]
     },
     "execution_count": 11,
     "metadata": {},
     "output_type": "execute_result"
    }
   ],
   "source": [
    "df.dtypes"
   ]
  },
  {
   "cell_type": "code",
   "execution_count": 12,
   "metadata": {},
   "outputs": [],
   "source": [
    "df=pd.read_csv(fname, parse_dates=['time'])"
   ]
  },
  {
   "cell_type": "code",
   "execution_count": 13,
   "metadata": {},
   "outputs": [
    {
     "data": {
      "text/plain": [
       "time      datetime64[ns]\n",
       "lat              float64\n",
       "lng              float64\n",
       "height           float64\n",
       "dtype: object"
      ]
     },
     "execution_count": 13,
     "metadata": {},
     "output_type": "execute_result"
    }
   ],
   "source": [
    "df.dtypes"
   ]
  },
  {
   "cell_type": "markdown",
   "metadata": {},
   "source": [
    "# read specific columns"
   ]
  },
  {
   "cell_type": "code",
   "execution_count": 14,
   "metadata": {},
   "outputs": [
    {
     "data": {
      "text/plain": [
       "0      35.015021\n",
       "1      35.014954\n",
       "2      35.014871\n",
       "3      35.014824\n",
       "4      35.014776\n",
       "5      35.014704\n",
       "6      35.014657\n",
       "7      35.014563\n",
       "8      35.014549\n",
       "9      35.014515\n",
       "10     35.014505\n",
       "11     35.014481\n",
       "12     35.014472\n",
       "13     35.014439\n",
       "14     35.014432\n",
       "15     35.014414\n",
       "16     35.014400\n",
       "17     35.014372\n",
       "18     35.014365\n",
       "19     35.014337\n",
       "20     35.014331\n",
       "21     35.014303\n",
       "22     35.014306\n",
       "23     35.014340\n",
       "24     35.013531\n",
       "25     35.013606\n",
       "26     35.013630\n",
       "27     35.013705\n",
       "28     35.013730\n",
       "29     35.013809\n",
       "         ...    \n",
       "710    35.015705\n",
       "711    35.015640\n",
       "712    35.015617\n",
       "713    35.015551\n",
       "714    35.015533\n",
       "715    35.015468\n",
       "716    35.015444\n",
       "717    35.015369\n",
       "718    35.015343\n",
       "719    35.015264\n",
       "720    35.015238\n",
       "721    35.015157\n",
       "722    35.015129\n",
       "723    35.015048\n",
       "724    35.015023\n",
       "725    35.014943\n",
       "726    35.014916\n",
       "727    35.014835\n",
       "728    35.014810\n",
       "729    35.014737\n",
       "730    35.014709\n",
       "731    35.014617\n",
       "732    35.014584\n",
       "733    35.014518\n",
       "734    35.014484\n",
       "735    35.014387\n",
       "736    35.014355\n",
       "737    35.014279\n",
       "738    35.014264\n",
       "739    35.014212\n",
       "Name: lat, Length: 740, dtype: float64"
      ]
     },
     "execution_count": 14,
     "metadata": {},
     "output_type": "execute_result"
    }
   ],
   "source": [
    "df['lat']"
   ]
  },
  {
   "cell_type": "code",
   "execution_count": 15,
   "metadata": {},
   "outputs": [
    {
     "data": {
      "text/plain": [
       "0      35.015021\n",
       "1      35.014954\n",
       "2      35.014871\n",
       "3      35.014824\n",
       "4      35.014776\n",
       "5      35.014704\n",
       "6      35.014657\n",
       "7      35.014563\n",
       "8      35.014549\n",
       "9      35.014515\n",
       "10     35.014505\n",
       "11     35.014481\n",
       "12     35.014472\n",
       "13     35.014439\n",
       "14     35.014432\n",
       "15     35.014414\n",
       "16     35.014400\n",
       "17     35.014372\n",
       "18     35.014365\n",
       "19     35.014337\n",
       "20     35.014331\n",
       "21     35.014303\n",
       "22     35.014306\n",
       "23     35.014340\n",
       "24     35.013531\n",
       "25     35.013606\n",
       "26     35.013630\n",
       "27     35.013705\n",
       "28     35.013730\n",
       "29     35.013809\n",
       "         ...    \n",
       "710    35.015705\n",
       "711    35.015640\n",
       "712    35.015617\n",
       "713    35.015551\n",
       "714    35.015533\n",
       "715    35.015468\n",
       "716    35.015444\n",
       "717    35.015369\n",
       "718    35.015343\n",
       "719    35.015264\n",
       "720    35.015238\n",
       "721    35.015157\n",
       "722    35.015129\n",
       "723    35.015048\n",
       "724    35.015023\n",
       "725    35.014943\n",
       "726    35.014916\n",
       "727    35.014835\n",
       "728    35.014810\n",
       "729    35.014737\n",
       "730    35.014709\n",
       "731    35.014617\n",
       "732    35.014584\n",
       "733    35.014518\n",
       "734    35.014484\n",
       "735    35.014387\n",
       "736    35.014355\n",
       "737    35.014279\n",
       "738    35.014264\n",
       "739    35.014212\n",
       "Name: lat, Length: 740, dtype: float64"
      ]
     },
     "execution_count": 15,
     "metadata": {},
     "output_type": "execute_result"
    }
   ],
   "source": [
    "df.lat"
   ]
  },
  {
   "cell_type": "code",
   "execution_count": 16,
   "metadata": {},
   "outputs": [
    {
     "data": {
      "text/html": [
       "<div>\n",
       "<style scoped>\n",
       "    .dataframe tbody tr th:only-of-type {\n",
       "        vertical-align: middle;\n",
       "    }\n",
       "\n",
       "    .dataframe tbody tr th {\n",
       "        vertical-align: top;\n",
       "    }\n",
       "\n",
       "    .dataframe thead th {\n",
       "        text-align: right;\n",
       "    }\n",
       "</style>\n",
       "<table border=\"1\" class=\"dataframe\">\n",
       "  <thead>\n",
       "    <tr style=\"text-align: right;\">\n",
       "      <th></th>\n",
       "      <th>lat</th>\n",
       "      <th>lng</th>\n",
       "    </tr>\n",
       "  </thead>\n",
       "  <tbody>\n",
       "    <tr>\n",
       "      <th>0</th>\n",
       "      <td>35.015021</td>\n",
       "      <td>32.519585</td>\n",
       "    </tr>\n",
       "    <tr>\n",
       "      <th>1</th>\n",
       "      <td>35.014954</td>\n",
       "      <td>32.519606</td>\n",
       "    </tr>\n",
       "    <tr>\n",
       "      <th>2</th>\n",
       "      <td>35.014871</td>\n",
       "      <td>32.519612</td>\n",
       "    </tr>\n",
       "    <tr>\n",
       "      <th>3</th>\n",
       "      <td>35.014824</td>\n",
       "      <td>32.519654</td>\n",
       "    </tr>\n",
       "    <tr>\n",
       "      <th>4</th>\n",
       "      <td>35.014776</td>\n",
       "      <td>32.519689</td>\n",
       "    </tr>\n",
       "    <tr>\n",
       "      <th>5</th>\n",
       "      <td>35.014704</td>\n",
       "      <td>32.519691</td>\n",
       "    </tr>\n",
       "    <tr>\n",
       "      <th>6</th>\n",
       "      <td>35.014657</td>\n",
       "      <td>32.519734</td>\n",
       "    </tr>\n",
       "    <tr>\n",
       "      <th>7</th>\n",
       "      <td>35.014563</td>\n",
       "      <td>32.519719</td>\n",
       "    </tr>\n",
       "    <tr>\n",
       "      <th>8</th>\n",
       "      <td>35.014549</td>\n",
       "      <td>32.519694</td>\n",
       "    </tr>\n",
       "    <tr>\n",
       "      <th>9</th>\n",
       "      <td>35.014515</td>\n",
       "      <td>32.519625</td>\n",
       "    </tr>\n",
       "    <tr>\n",
       "      <th>10</th>\n",
       "      <td>35.014505</td>\n",
       "      <td>32.519599</td>\n",
       "    </tr>\n",
       "    <tr>\n",
       "      <th>11</th>\n",
       "      <td>35.014481</td>\n",
       "      <td>32.519514</td>\n",
       "    </tr>\n",
       "    <tr>\n",
       "      <th>12</th>\n",
       "      <td>35.014472</td>\n",
       "      <td>32.519486</td>\n",
       "    </tr>\n",
       "    <tr>\n",
       "      <th>13</th>\n",
       "      <td>35.014439</td>\n",
       "      <td>32.519405</td>\n",
       "    </tr>\n",
       "    <tr>\n",
       "      <th>14</th>\n",
       "      <td>35.014432</td>\n",
       "      <td>32.519379</td>\n",
       "    </tr>\n",
       "    <tr>\n",
       "      <th>15</th>\n",
       "      <td>35.014414</td>\n",
       "      <td>32.519309</td>\n",
       "    </tr>\n",
       "    <tr>\n",
       "      <th>16</th>\n",
       "      <td>35.014400</td>\n",
       "      <td>32.519287</td>\n",
       "    </tr>\n",
       "    <tr>\n",
       "      <th>17</th>\n",
       "      <td>35.014372</td>\n",
       "      <td>32.519211</td>\n",
       "    </tr>\n",
       "    <tr>\n",
       "      <th>18</th>\n",
       "      <td>35.014365</td>\n",
       "      <td>32.519187</td>\n",
       "    </tr>\n",
       "    <tr>\n",
       "      <th>19</th>\n",
       "      <td>35.014337</td>\n",
       "      <td>32.519106</td>\n",
       "    </tr>\n",
       "    <tr>\n",
       "      <th>20</th>\n",
       "      <td>35.014331</td>\n",
       "      <td>32.519084</td>\n",
       "    </tr>\n",
       "    <tr>\n",
       "      <th>21</th>\n",
       "      <td>35.014303</td>\n",
       "      <td>32.519009</td>\n",
       "    </tr>\n",
       "    <tr>\n",
       "      <th>22</th>\n",
       "      <td>35.014306</td>\n",
       "      <td>32.518989</td>\n",
       "    </tr>\n",
       "    <tr>\n",
       "      <th>23</th>\n",
       "      <td>35.014340</td>\n",
       "      <td>32.518916</td>\n",
       "    </tr>\n",
       "    <tr>\n",
       "      <th>24</th>\n",
       "      <td>35.013531</td>\n",
       "      <td>32.517636</td>\n",
       "    </tr>\n",
       "    <tr>\n",
       "      <th>25</th>\n",
       "      <td>35.013606</td>\n",
       "      <td>32.517589</td>\n",
       "    </tr>\n",
       "    <tr>\n",
       "      <th>26</th>\n",
       "      <td>35.013630</td>\n",
       "      <td>32.517574</td>\n",
       "    </tr>\n",
       "    <tr>\n",
       "      <th>27</th>\n",
       "      <td>35.013705</td>\n",
       "      <td>32.517529</td>\n",
       "    </tr>\n",
       "    <tr>\n",
       "      <th>28</th>\n",
       "      <td>35.013730</td>\n",
       "      <td>32.517512</td>\n",
       "    </tr>\n",
       "    <tr>\n",
       "      <th>29</th>\n",
       "      <td>35.013809</td>\n",
       "      <td>32.517459</td>\n",
       "    </tr>\n",
       "    <tr>\n",
       "      <th>...</th>\n",
       "      <td>...</td>\n",
       "      <td>...</td>\n",
       "    </tr>\n",
       "    <tr>\n",
       "      <th>710</th>\n",
       "      <td>35.015705</td>\n",
       "      <td>32.516157</td>\n",
       "    </tr>\n",
       "    <tr>\n",
       "      <th>711</th>\n",
       "      <td>35.015640</td>\n",
       "      <td>32.516211</td>\n",
       "    </tr>\n",
       "    <tr>\n",
       "      <th>712</th>\n",
       "      <td>35.015617</td>\n",
       "      <td>32.516225</td>\n",
       "    </tr>\n",
       "    <tr>\n",
       "      <th>713</th>\n",
       "      <td>35.015551</td>\n",
       "      <td>32.516278</td>\n",
       "    </tr>\n",
       "    <tr>\n",
       "      <th>714</th>\n",
       "      <td>35.015533</td>\n",
       "      <td>32.516301</td>\n",
       "    </tr>\n",
       "    <tr>\n",
       "      <th>715</th>\n",
       "      <td>35.015468</td>\n",
       "      <td>32.516361</td>\n",
       "    </tr>\n",
       "    <tr>\n",
       "      <th>716</th>\n",
       "      <td>35.015444</td>\n",
       "      <td>32.516380</td>\n",
       "    </tr>\n",
       "    <tr>\n",
       "      <th>717</th>\n",
       "      <td>35.015369</td>\n",
       "      <td>32.516442</td>\n",
       "    </tr>\n",
       "    <tr>\n",
       "      <th>718</th>\n",
       "      <td>35.015343</td>\n",
       "      <td>32.516462</td>\n",
       "    </tr>\n",
       "    <tr>\n",
       "      <th>719</th>\n",
       "      <td>35.015264</td>\n",
       "      <td>32.516517</td>\n",
       "    </tr>\n",
       "    <tr>\n",
       "      <th>720</th>\n",
       "      <td>35.015238</td>\n",
       "      <td>32.516537</td>\n",
       "    </tr>\n",
       "    <tr>\n",
       "      <th>721</th>\n",
       "      <td>35.015157</td>\n",
       "      <td>32.516592</td>\n",
       "    </tr>\n",
       "    <tr>\n",
       "      <th>722</th>\n",
       "      <td>35.015129</td>\n",
       "      <td>32.516610</td>\n",
       "    </tr>\n",
       "    <tr>\n",
       "      <th>723</th>\n",
       "      <td>35.015048</td>\n",
       "      <td>32.516665</td>\n",
       "    </tr>\n",
       "    <tr>\n",
       "      <th>724</th>\n",
       "      <td>35.015023</td>\n",
       "      <td>32.516683</td>\n",
       "    </tr>\n",
       "    <tr>\n",
       "      <th>725</th>\n",
       "      <td>35.014943</td>\n",
       "      <td>32.516736</td>\n",
       "    </tr>\n",
       "    <tr>\n",
       "      <th>726</th>\n",
       "      <td>35.014916</td>\n",
       "      <td>32.516754</td>\n",
       "    </tr>\n",
       "    <tr>\n",
       "      <th>727</th>\n",
       "      <td>35.014835</td>\n",
       "      <td>32.516800</td>\n",
       "    </tr>\n",
       "    <tr>\n",
       "      <th>728</th>\n",
       "      <td>35.014810</td>\n",
       "      <td>32.516818</td>\n",
       "    </tr>\n",
       "    <tr>\n",
       "      <th>729</th>\n",
       "      <td>35.014737</td>\n",
       "      <td>32.516873</td>\n",
       "    </tr>\n",
       "    <tr>\n",
       "      <th>730</th>\n",
       "      <td>35.014709</td>\n",
       "      <td>32.516889</td>\n",
       "    </tr>\n",
       "    <tr>\n",
       "      <th>731</th>\n",
       "      <td>35.014617</td>\n",
       "      <td>32.516933</td>\n",
       "    </tr>\n",
       "    <tr>\n",
       "      <th>732</th>\n",
       "      <td>35.014584</td>\n",
       "      <td>32.516945</td>\n",
       "    </tr>\n",
       "    <tr>\n",
       "      <th>733</th>\n",
       "      <td>35.014518</td>\n",
       "      <td>32.516971</td>\n",
       "    </tr>\n",
       "    <tr>\n",
       "      <th>734</th>\n",
       "      <td>35.014484</td>\n",
       "      <td>32.516984</td>\n",
       "    </tr>\n",
       "    <tr>\n",
       "      <th>735</th>\n",
       "      <td>35.014387</td>\n",
       "      <td>32.517020</td>\n",
       "    </tr>\n",
       "    <tr>\n",
       "      <th>736</th>\n",
       "      <td>35.014355</td>\n",
       "      <td>32.517035</td>\n",
       "    </tr>\n",
       "    <tr>\n",
       "      <th>737</th>\n",
       "      <td>35.014279</td>\n",
       "      <td>32.517087</td>\n",
       "    </tr>\n",
       "    <tr>\n",
       "      <th>738</th>\n",
       "      <td>35.014264</td>\n",
       "      <td>32.517098</td>\n",
       "    </tr>\n",
       "    <tr>\n",
       "      <th>739</th>\n",
       "      <td>35.014212</td>\n",
       "      <td>32.517142</td>\n",
       "    </tr>\n",
       "  </tbody>\n",
       "</table>\n",
       "<p>740 rows × 2 columns</p>\n",
       "</div>"
      ],
      "text/plain": [
       "           lat        lng\n",
       "0    35.015021  32.519585\n",
       "1    35.014954  32.519606\n",
       "2    35.014871  32.519612\n",
       "3    35.014824  32.519654\n",
       "4    35.014776  32.519689\n",
       "5    35.014704  32.519691\n",
       "6    35.014657  32.519734\n",
       "7    35.014563  32.519719\n",
       "8    35.014549  32.519694\n",
       "9    35.014515  32.519625\n",
       "10   35.014505  32.519599\n",
       "11   35.014481  32.519514\n",
       "12   35.014472  32.519486\n",
       "13   35.014439  32.519405\n",
       "14   35.014432  32.519379\n",
       "15   35.014414  32.519309\n",
       "16   35.014400  32.519287\n",
       "17   35.014372  32.519211\n",
       "18   35.014365  32.519187\n",
       "19   35.014337  32.519106\n",
       "20   35.014331  32.519084\n",
       "21   35.014303  32.519009\n",
       "22   35.014306  32.518989\n",
       "23   35.014340  32.518916\n",
       "24   35.013531  32.517636\n",
       "25   35.013606  32.517589\n",
       "26   35.013630  32.517574\n",
       "27   35.013705  32.517529\n",
       "28   35.013730  32.517512\n",
       "29   35.013809  32.517459\n",
       "..         ...        ...\n",
       "710  35.015705  32.516157\n",
       "711  35.015640  32.516211\n",
       "712  35.015617  32.516225\n",
       "713  35.015551  32.516278\n",
       "714  35.015533  32.516301\n",
       "715  35.015468  32.516361\n",
       "716  35.015444  32.516380\n",
       "717  35.015369  32.516442\n",
       "718  35.015343  32.516462\n",
       "719  35.015264  32.516517\n",
       "720  35.015238  32.516537\n",
       "721  35.015157  32.516592\n",
       "722  35.015129  32.516610\n",
       "723  35.015048  32.516665\n",
       "724  35.015023  32.516683\n",
       "725  35.014943  32.516736\n",
       "726  35.014916  32.516754\n",
       "727  35.014835  32.516800\n",
       "728  35.014810  32.516818\n",
       "729  35.014737  32.516873\n",
       "730  35.014709  32.516889\n",
       "731  35.014617  32.516933\n",
       "732  35.014584  32.516945\n",
       "733  35.014518  32.516971\n",
       "734  35.014484  32.516984\n",
       "735  35.014387  32.517020\n",
       "736  35.014355  32.517035\n",
       "737  35.014279  32.517087\n",
       "738  35.014264  32.517098\n",
       "739  35.014212  32.517142\n",
       "\n",
       "[740 rows x 2 columns]"
      ]
     },
     "execution_count": 16,
     "metadata": {},
     "output_type": "execute_result"
    }
   ],
   "source": [
    "df[['lat', 'lng']]"
   ]
  },
  {
   "cell_type": "markdown",
   "metadata": {},
   "source": [
    "# Specific row "
   ]
  },
  {
   "cell_type": "code",
   "execution_count": 17,
   "metadata": {},
   "outputs": [
    {
     "data": {
      "text/plain": [
       "35.015021000000004"
      ]
     },
     "execution_count": 17,
     "metadata": {},
     "output_type": "execute_result"
    }
   ],
   "source": [
    "df['lat'][0]"
   ]
  },
  {
   "cell_type": "code",
   "execution_count": 18,
   "metadata": {},
   "outputs": [
    {
     "data": {
      "text/plain": [
       "time      2015-08-20 03:48:07.235000\n",
       "lat                           35.015\n",
       "lng                          32.5196\n",
       "height                         136.2\n",
       "Name: 0, dtype: object"
      ]
     },
     "execution_count": 18,
     "metadata": {},
     "output_type": "execute_result"
    }
   ],
   "source": [
    "df.loc[0]"
   ]
  },
  {
   "cell_type": "code",
   "execution_count": 19,
   "metadata": {},
   "outputs": [
    {
     "data": {
      "text/html": [
       "<div>\n",
       "<style scoped>\n",
       "    .dataframe tbody tr th:only-of-type {\n",
       "        vertical-align: middle;\n",
       "    }\n",
       "\n",
       "    .dataframe tbody tr th {\n",
       "        vertical-align: top;\n",
       "    }\n",
       "\n",
       "    .dataframe thead th {\n",
       "        text-align: right;\n",
       "    }\n",
       "</style>\n",
       "<table border=\"1\" class=\"dataframe\">\n",
       "  <thead>\n",
       "    <tr style=\"text-align: right;\">\n",
       "      <th></th>\n",
       "      <th>time</th>\n",
       "      <th>lat</th>\n",
       "      <th>lng</th>\n",
       "      <th>height</th>\n",
       "    </tr>\n",
       "  </thead>\n",
       "  <tbody>\n",
       "    <tr>\n",
       "      <th>2</th>\n",
       "      <td>2015-08-20 03:48:25.660</td>\n",
       "      <td>35.014871</td>\n",
       "      <td>32.519612</td>\n",
       "      <td>123.000000</td>\n",
       "    </tr>\n",
       "    <tr>\n",
       "      <th>3</th>\n",
       "      <td>2015-08-20 03:48:26.819</td>\n",
       "      <td>35.014824</td>\n",
       "      <td>32.519654</td>\n",
       "      <td>120.500000</td>\n",
       "    </tr>\n",
       "    <tr>\n",
       "      <th>4</th>\n",
       "      <td>2015-08-20 03:48:27.828</td>\n",
       "      <td>35.014776</td>\n",
       "      <td>32.519689</td>\n",
       "      <td>118.900002</td>\n",
       "    </tr>\n",
       "    <tr>\n",
       "      <th>5</th>\n",
       "      <td>2015-08-20 03:48:29.720</td>\n",
       "      <td>35.014704</td>\n",
       "      <td>32.519691</td>\n",
       "      <td>119.900002</td>\n",
       "    </tr>\n",
       "    <tr>\n",
       "      <th>6</th>\n",
       "      <td>2015-08-20 03:48:30.669</td>\n",
       "      <td>35.014657</td>\n",
       "      <td>32.519734</td>\n",
       "      <td>120.900002</td>\n",
       "    </tr>\n",
       "    <tr>\n",
       "      <th>7</th>\n",
       "      <td>2015-08-20 03:48:33.793</td>\n",
       "      <td>35.014563</td>\n",
       "      <td>32.519719</td>\n",
       "      <td>121.699997</td>\n",
       "    </tr>\n",
       "  </tbody>\n",
       "</table>\n",
       "</div>"
      ],
      "text/plain": [
       "                     time        lat        lng      height\n",
       "2 2015-08-20 03:48:25.660  35.014871  32.519612  123.000000\n",
       "3 2015-08-20 03:48:26.819  35.014824  32.519654  120.500000\n",
       "4 2015-08-20 03:48:27.828  35.014776  32.519689  118.900002\n",
       "5 2015-08-20 03:48:29.720  35.014704  32.519691  119.900002\n",
       "6 2015-08-20 03:48:30.669  35.014657  32.519734  120.900002\n",
       "7 2015-08-20 03:48:33.793  35.014563  32.519719  121.699997"
      ]
     },
     "execution_count": 19,
     "metadata": {},
     "output_type": "execute_result"
    }
   ],
   "source": [
    "df.loc[2:7]"
   ]
  },
  {
   "cell_type": "code",
   "execution_count": 20,
   "metadata": {},
   "outputs": [
    {
     "data": {
      "text/html": [
       "<div>\n",
       "<style scoped>\n",
       "    .dataframe tbody tr th:only-of-type {\n",
       "        vertical-align: middle;\n",
       "    }\n",
       "\n",
       "    .dataframe tbody tr th {\n",
       "        vertical-align: top;\n",
       "    }\n",
       "\n",
       "    .dataframe thead th {\n",
       "        text-align: right;\n",
       "    }\n",
       "</style>\n",
       "<table border=\"1\" class=\"dataframe\">\n",
       "  <thead>\n",
       "    <tr style=\"text-align: right;\">\n",
       "      <th></th>\n",
       "      <th>lat</th>\n",
       "      <th>lng</th>\n",
       "    </tr>\n",
       "  </thead>\n",
       "  <tbody>\n",
       "    <tr>\n",
       "      <th>2</th>\n",
       "      <td>35.014871</td>\n",
       "      <td>32.519612</td>\n",
       "    </tr>\n",
       "    <tr>\n",
       "      <th>3</th>\n",
       "      <td>35.014824</td>\n",
       "      <td>32.519654</td>\n",
       "    </tr>\n",
       "    <tr>\n",
       "      <th>4</th>\n",
       "      <td>35.014776</td>\n",
       "      <td>32.519689</td>\n",
       "    </tr>\n",
       "    <tr>\n",
       "      <th>5</th>\n",
       "      <td>35.014704</td>\n",
       "      <td>32.519691</td>\n",
       "    </tr>\n",
       "    <tr>\n",
       "      <th>6</th>\n",
       "      <td>35.014657</td>\n",
       "      <td>32.519734</td>\n",
       "    </tr>\n",
       "  </tbody>\n",
       "</table>\n",
       "</div>"
      ],
      "text/plain": [
       "         lat        lng\n",
       "2  35.014871  32.519612\n",
       "3  35.014824  32.519654\n",
       "4  35.014776  32.519689\n",
       "5  35.014704  32.519691\n",
       "6  35.014657  32.519734"
      ]
     },
     "execution_count": 20,
     "metadata": {},
     "output_type": "execute_result"
    }
   ],
   "source": [
    "df[['lat', 'lng']][2:7]"
   ]
  },
  {
   "cell_type": "code",
   "execution_count": 21,
   "metadata": {},
   "outputs": [
    {
     "data": {
      "text/plain": [
       "RangeIndex(start=0, stop=740, step=1)"
      ]
     },
     "execution_count": 21,
     "metadata": {},
     "output_type": "execute_result"
    }
   ],
   "source": [
    "df.index"
   ]
  },
  {
   "cell_type": "code",
   "execution_count": 22,
   "metadata": {},
   "outputs": [
    {
     "data": {
      "text/html": [
       "<div>\n",
       "<style scoped>\n",
       "    .dataframe tbody tr th:only-of-type {\n",
       "        vertical-align: middle;\n",
       "    }\n",
       "\n",
       "    .dataframe tbody tr th {\n",
       "        vertical-align: top;\n",
       "    }\n",
       "\n",
       "    .dataframe thead th {\n",
       "        text-align: right;\n",
       "    }\n",
       "</style>\n",
       "<table border=\"1\" class=\"dataframe\">\n",
       "  <thead>\n",
       "    <tr style=\"text-align: right;\">\n",
       "      <th></th>\n",
       "      <th>x</th>\n",
       "      <th>y</th>\n",
       "    </tr>\n",
       "  </thead>\n",
       "  <tbody>\n",
       "    <tr>\n",
       "      <th>a</th>\n",
       "      <td>0</td>\n",
       "      <td>1</td>\n",
       "    </tr>\n",
       "    <tr>\n",
       "      <th>b</th>\n",
       "      <td>2</td>\n",
       "      <td>3</td>\n",
       "    </tr>\n",
       "    <tr>\n",
       "      <th>c</th>\n",
       "      <td>4</td>\n",
       "      <td>5</td>\n",
       "    </tr>\n",
       "    <tr>\n",
       "      <th>d</th>\n",
       "      <td>6</td>\n",
       "      <td>7</td>\n",
       "    </tr>\n",
       "    <tr>\n",
       "      <th>e</th>\n",
       "      <td>8</td>\n",
       "      <td>9</td>\n",
       "    </tr>\n",
       "  </tbody>\n",
       "</table>\n",
       "</div>"
      ],
      "text/plain": [
       "   x  y\n",
       "a  0  1\n",
       "b  2  3\n",
       "c  4  5\n",
       "d  6  7\n",
       "e  8  9"
      ]
     },
     "execution_count": 22,
     "metadata": {},
     "output_type": "execute_result"
    }
   ],
   "source": [
    "import numpy as np\n",
    "df1 = pd.DataFrame(np.arange(10).reshape(5,2), columns=['x','y'], index=['a', 'b','c','d','e'])\n",
    "df1"
   ]
  },
  {
   "cell_type": "code",
   "execution_count": 23,
   "metadata": {},
   "outputs": [],
   "source": [
    "# df1.loc[0] # Error because loc works by label - not by index"
   ]
  },
  {
   "cell_type": "code",
   "execution_count": 24,
   "metadata": {},
   "outputs": [
    {
     "data": {
      "text/plain": [
       "x    0\n",
       "y    1\n",
       "Name: a, dtype: int32"
      ]
     },
     "execution_count": 24,
     "metadata": {},
     "output_type": "execute_result"
    }
   ],
   "source": [
    "df1.loc['a']"
   ]
  },
  {
   "cell_type": "code",
   "execution_count": 25,
   "metadata": {},
   "outputs": [
    {
     "data": {
      "text/html": [
       "<div>\n",
       "<style scoped>\n",
       "    .dataframe tbody tr th:only-of-type {\n",
       "        vertical-align: middle;\n",
       "    }\n",
       "\n",
       "    .dataframe tbody tr th {\n",
       "        vertical-align: top;\n",
       "    }\n",
       "\n",
       "    .dataframe thead th {\n",
       "        text-align: right;\n",
       "    }\n",
       "</style>\n",
       "<table border=\"1\" class=\"dataframe\">\n",
       "  <thead>\n",
       "    <tr style=\"text-align: right;\">\n",
       "      <th></th>\n",
       "      <th>x</th>\n",
       "      <th>y</th>\n",
       "    </tr>\n",
       "  </thead>\n",
       "  <tbody>\n",
       "    <tr>\n",
       "      <th>b</th>\n",
       "      <td>2</td>\n",
       "      <td>3</td>\n",
       "    </tr>\n",
       "    <tr>\n",
       "      <th>c</th>\n",
       "      <td>4</td>\n",
       "      <td>5</td>\n",
       "    </tr>\n",
       "    <tr>\n",
       "      <th>d</th>\n",
       "      <td>6</td>\n",
       "      <td>7</td>\n",
       "    </tr>\n",
       "  </tbody>\n",
       "</table>\n",
       "</div>"
      ],
      "text/plain": [
       "   x  y\n",
       "b  2  3\n",
       "c  4  5\n",
       "d  6  7"
      ]
     },
     "execution_count": 25,
     "metadata": {},
     "output_type": "execute_result"
    }
   ],
   "source": [
    "df1.loc['b':'d']"
   ]
  },
  {
   "cell_type": "code",
   "execution_count": 26,
   "metadata": {},
   "outputs": [
    {
     "data": {
      "text/plain": [
       "DatetimeIndex(['2015-08-20 03:48:07.235000', '2015-08-20 03:48:24.734000',\n",
       "               '2015-08-20 03:48:25.660000', '2015-08-20 03:48:26.819000',\n",
       "               '2015-08-20 03:48:27.828000', '2015-08-20 03:48:29.720000',\n",
       "               '2015-08-20 03:48:30.669000', '2015-08-20 03:48:33.793000',\n",
       "               '2015-08-20 03:48:34.869000', '2015-08-20 03:48:37.708000',\n",
       "               ...\n",
       "               '2015-08-20 04:20:18.844000', '2015-08-20 04:20:21.996000',\n",
       "               '2015-08-20 04:20:22.897000', '2015-08-20 04:20:24.905000',\n",
       "               '2015-08-20 04:20:25.835000', '2015-08-20 04:20:28.982000',\n",
       "               '2015-08-20 04:20:29.923000', '2015-08-20 04:20:32.863000',\n",
       "               '2015-08-20 04:20:33.994000', '2015-08-20 04:20:42.329000'],\n",
       "              dtype='datetime64[ns]', name='time', length=740, freq=None)"
      ]
     },
     "execution_count": 26,
     "metadata": {},
     "output_type": "execute_result"
    }
   ],
   "source": [
    "df.index = df['time']\n",
    "df.index"
   ]
  },
  {
   "cell_type": "code",
   "execution_count": 27,
   "metadata": {},
   "outputs": [
    {
     "data": {
      "text/html": [
       "<div>\n",
       "<style scoped>\n",
       "    .dataframe tbody tr th:only-of-type {\n",
       "        vertical-align: middle;\n",
       "    }\n",
       "\n",
       "    .dataframe tbody tr th {\n",
       "        vertical-align: top;\n",
       "    }\n",
       "\n",
       "    .dataframe thead th {\n",
       "        text-align: right;\n",
       "    }\n",
       "</style>\n",
       "<table border=\"1\" class=\"dataframe\">\n",
       "  <thead>\n",
       "    <tr style=\"text-align: right;\">\n",
       "      <th></th>\n",
       "      <th>time</th>\n",
       "      <th>lat</th>\n",
       "      <th>lng</th>\n",
       "      <th>height</th>\n",
       "    </tr>\n",
       "    <tr>\n",
       "      <th>time</th>\n",
       "      <th></th>\n",
       "      <th></th>\n",
       "      <th></th>\n",
       "      <th></th>\n",
       "    </tr>\n",
       "  </thead>\n",
       "  <tbody>\n",
       "    <tr>\n",
       "      <th>2015-08-20 03:48:07.235</th>\n",
       "      <td>2015-08-20 03:48:07.235</td>\n",
       "      <td>35.015021</td>\n",
       "      <td>32.519585</td>\n",
       "      <td>136.199997</td>\n",
       "    </tr>\n",
       "    <tr>\n",
       "      <th>2015-08-20 03:48:24.734</th>\n",
       "      <td>2015-08-20 03:48:24.734</td>\n",
       "      <td>35.014954</td>\n",
       "      <td>32.519606</td>\n",
       "      <td>126.599998</td>\n",
       "    </tr>\n",
       "    <tr>\n",
       "      <th>2015-08-20 03:48:25.660</th>\n",
       "      <td>2015-08-20 03:48:25.660</td>\n",
       "      <td>35.014871</td>\n",
       "      <td>32.519612</td>\n",
       "      <td>123.000000</td>\n",
       "    </tr>\n",
       "    <tr>\n",
       "      <th>2015-08-20 03:48:26.819</th>\n",
       "      <td>2015-08-20 03:48:26.819</td>\n",
       "      <td>35.014824</td>\n",
       "      <td>32.519654</td>\n",
       "      <td>120.500000</td>\n",
       "    </tr>\n",
       "    <tr>\n",
       "      <th>2015-08-20 03:48:27.828</th>\n",
       "      <td>2015-08-20 03:48:27.828</td>\n",
       "      <td>35.014776</td>\n",
       "      <td>32.519689</td>\n",
       "      <td>118.900002</td>\n",
       "    </tr>\n",
       "    <tr>\n",
       "      <th>2015-08-20 03:48:29.720</th>\n",
       "      <td>2015-08-20 03:48:29.720</td>\n",
       "      <td>35.014704</td>\n",
       "      <td>32.519691</td>\n",
       "      <td>119.900002</td>\n",
       "    </tr>\n",
       "    <tr>\n",
       "      <th>2015-08-20 03:48:30.669</th>\n",
       "      <td>2015-08-20 03:48:30.669</td>\n",
       "      <td>35.014657</td>\n",
       "      <td>32.519734</td>\n",
       "      <td>120.900002</td>\n",
       "    </tr>\n",
       "    <tr>\n",
       "      <th>2015-08-20 03:48:33.793</th>\n",
       "      <td>2015-08-20 03:48:33.793</td>\n",
       "      <td>35.014563</td>\n",
       "      <td>32.519719</td>\n",
       "      <td>121.699997</td>\n",
       "    </tr>\n",
       "    <tr>\n",
       "      <th>2015-08-20 03:48:34.869</th>\n",
       "      <td>2015-08-20 03:48:34.869</td>\n",
       "      <td>35.014549</td>\n",
       "      <td>32.519694</td>\n",
       "      <td>121.199997</td>\n",
       "    </tr>\n",
       "    <tr>\n",
       "      <th>2015-08-20 03:48:37.708</th>\n",
       "      <td>2015-08-20 03:48:37.708</td>\n",
       "      <td>35.014515</td>\n",
       "      <td>32.519625</td>\n",
       "      <td>121.699997</td>\n",
       "    </tr>\n",
       "    <tr>\n",
       "      <th>2015-08-20 03:48:38.839</th>\n",
       "      <td>2015-08-20 03:48:38.839</td>\n",
       "      <td>35.014505</td>\n",
       "      <td>32.519599</td>\n",
       "      <td>121.800003</td>\n",
       "    </tr>\n",
       "    <tr>\n",
       "      <th>2015-08-20 03:48:41.980</th>\n",
       "      <td>2015-08-20 03:48:41.980</td>\n",
       "      <td>35.014481</td>\n",
       "      <td>32.519514</td>\n",
       "      <td>122.599998</td>\n",
       "    </tr>\n",
       "    <tr>\n",
       "      <th>2015-08-20 03:48:42.725</th>\n",
       "      <td>2015-08-20 03:48:42.725</td>\n",
       "      <td>35.014472</td>\n",
       "      <td>32.519486</td>\n",
       "      <td>123.000000</td>\n",
       "    </tr>\n",
       "    <tr>\n",
       "      <th>2015-08-20 03:48:45.896</th>\n",
       "      <td>2015-08-20 03:48:45.896</td>\n",
       "      <td>35.014439</td>\n",
       "      <td>32.519405</td>\n",
       "      <td>122.699997</td>\n",
       "    </tr>\n",
       "    <tr>\n",
       "      <th>2015-08-20 03:48:46.662</th>\n",
       "      <td>2015-08-20 03:48:46.662</td>\n",
       "      <td>35.014432</td>\n",
       "      <td>32.519379</td>\n",
       "      <td>122.699997</td>\n",
       "    </tr>\n",
       "    <tr>\n",
       "      <th>2015-08-20 03:48:49.829</th>\n",
       "      <td>2015-08-20 03:48:49.829</td>\n",
       "      <td>35.014414</td>\n",
       "      <td>32.519309</td>\n",
       "      <td>122.699997</td>\n",
       "    </tr>\n",
       "    <tr>\n",
       "      <th>2015-08-20 03:48:50.665</th>\n",
       "      <td>2015-08-20 03:48:50.665</td>\n",
       "      <td>35.014400</td>\n",
       "      <td>32.519287</td>\n",
       "      <td>123.300003</td>\n",
       "    </tr>\n",
       "    <tr>\n",
       "      <th>2015-08-20 03:48:53.692</th>\n",
       "      <td>2015-08-20 03:48:53.692</td>\n",
       "      <td>35.014372</td>\n",
       "      <td>32.519211</td>\n",
       "      <td>122.300003</td>\n",
       "    </tr>\n",
       "    <tr>\n",
       "      <th>2015-08-20 03:48:54.662</th>\n",
       "      <td>2015-08-20 03:48:54.662</td>\n",
       "      <td>35.014365</td>\n",
       "      <td>32.519187</td>\n",
       "      <td>122.599998</td>\n",
       "    </tr>\n",
       "    <tr>\n",
       "      <th>2015-08-20 03:48:58.869</th>\n",
       "      <td>2015-08-20 03:48:58.869</td>\n",
       "      <td>35.014337</td>\n",
       "      <td>32.519106</td>\n",
       "      <td>122.000000</td>\n",
       "    </tr>\n",
       "    <tr>\n",
       "      <th>2015-08-20 03:48:59.663</th>\n",
       "      <td>2015-08-20 03:48:59.663</td>\n",
       "      <td>35.014331</td>\n",
       "      <td>32.519084</td>\n",
       "      <td>121.800003</td>\n",
       "    </tr>\n",
       "  </tbody>\n",
       "</table>\n",
       "</div>"
      ],
      "text/plain": [
       "                                           time        lat        lng  \\\n",
       "time                                                                    \n",
       "2015-08-20 03:48:07.235 2015-08-20 03:48:07.235  35.015021  32.519585   \n",
       "2015-08-20 03:48:24.734 2015-08-20 03:48:24.734  35.014954  32.519606   \n",
       "2015-08-20 03:48:25.660 2015-08-20 03:48:25.660  35.014871  32.519612   \n",
       "2015-08-20 03:48:26.819 2015-08-20 03:48:26.819  35.014824  32.519654   \n",
       "2015-08-20 03:48:27.828 2015-08-20 03:48:27.828  35.014776  32.519689   \n",
       "2015-08-20 03:48:29.720 2015-08-20 03:48:29.720  35.014704  32.519691   \n",
       "2015-08-20 03:48:30.669 2015-08-20 03:48:30.669  35.014657  32.519734   \n",
       "2015-08-20 03:48:33.793 2015-08-20 03:48:33.793  35.014563  32.519719   \n",
       "2015-08-20 03:48:34.869 2015-08-20 03:48:34.869  35.014549  32.519694   \n",
       "2015-08-20 03:48:37.708 2015-08-20 03:48:37.708  35.014515  32.519625   \n",
       "2015-08-20 03:48:38.839 2015-08-20 03:48:38.839  35.014505  32.519599   \n",
       "2015-08-20 03:48:41.980 2015-08-20 03:48:41.980  35.014481  32.519514   \n",
       "2015-08-20 03:48:42.725 2015-08-20 03:48:42.725  35.014472  32.519486   \n",
       "2015-08-20 03:48:45.896 2015-08-20 03:48:45.896  35.014439  32.519405   \n",
       "2015-08-20 03:48:46.662 2015-08-20 03:48:46.662  35.014432  32.519379   \n",
       "2015-08-20 03:48:49.829 2015-08-20 03:48:49.829  35.014414  32.519309   \n",
       "2015-08-20 03:48:50.665 2015-08-20 03:48:50.665  35.014400  32.519287   \n",
       "2015-08-20 03:48:53.692 2015-08-20 03:48:53.692  35.014372  32.519211   \n",
       "2015-08-20 03:48:54.662 2015-08-20 03:48:54.662  35.014365  32.519187   \n",
       "2015-08-20 03:48:58.869 2015-08-20 03:48:58.869  35.014337  32.519106   \n",
       "2015-08-20 03:48:59.663 2015-08-20 03:48:59.663  35.014331  32.519084   \n",
       "\n",
       "                             height  \n",
       "time                                 \n",
       "2015-08-20 03:48:07.235  136.199997  \n",
       "2015-08-20 03:48:24.734  126.599998  \n",
       "2015-08-20 03:48:25.660  123.000000  \n",
       "2015-08-20 03:48:26.819  120.500000  \n",
       "2015-08-20 03:48:27.828  118.900002  \n",
       "2015-08-20 03:48:29.720  119.900002  \n",
       "2015-08-20 03:48:30.669  120.900002  \n",
       "2015-08-20 03:48:33.793  121.699997  \n",
       "2015-08-20 03:48:34.869  121.199997  \n",
       "2015-08-20 03:48:37.708  121.699997  \n",
       "2015-08-20 03:48:38.839  121.800003  \n",
       "2015-08-20 03:48:41.980  122.599998  \n",
       "2015-08-20 03:48:42.725  123.000000  \n",
       "2015-08-20 03:48:45.896  122.699997  \n",
       "2015-08-20 03:48:46.662  122.699997  \n",
       "2015-08-20 03:48:49.829  122.699997  \n",
       "2015-08-20 03:48:50.665  123.300003  \n",
       "2015-08-20 03:48:53.692  122.300003  \n",
       "2015-08-20 03:48:54.662  122.599998  \n",
       "2015-08-20 03:48:58.869  122.000000  \n",
       "2015-08-20 03:48:59.663  121.800003  "
      ]
     },
     "execution_count": 27,
     "metadata": {},
     "output_type": "execute_result"
    }
   ],
   "source": [
    "df.loc['2015-08-20 03:48']"
   ]
  },
  {
   "cell_type": "markdown",
   "metadata": {},
   "source": [
    "# pytz module for time formats around the world"
   ]
  },
  {
   "cell_type": "code",
   "execution_count": 28,
   "metadata": {},
   "outputs": [],
   "source": [
    "import pytz\n"
   ]
  },
  {
   "cell_type": "code",
   "execution_count": 29,
   "metadata": {},
   "outputs": [],
   "source": [
    "ts = df.index[0]"
   ]
  },
  {
   "cell_type": "code",
   "execution_count": 30,
   "metadata": {},
   "outputs": [
    {
     "data": {
      "text/plain": [
       "Timestamp('2015-08-20 03:48:07.235000+0000', tz='UTC')"
      ]
     },
     "execution_count": 30,
     "metadata": {},
     "output_type": "execute_result"
    }
   ],
   "source": [
    "ts.tz_localize(pytz.UTC)"
   ]
  },
  {
   "cell_type": "code",
   "execution_count": 31,
   "metadata": {},
   "outputs": [
    {
     "data": {
      "text/plain": [
       "Timestamp('2015-08-20 09:18:07.235000+0530', tz='Asia/Calcutta')"
      ]
     },
     "execution_count": 31,
     "metadata": {},
     "output_type": "execute_result"
    }
   ],
   "source": [
    "ts.tz_localize(pytz.UTC).tz_convert(pytz.timezone('Asia/Calcutta'))"
   ]
  },
  {
   "cell_type": "code",
   "execution_count": 32,
   "metadata": {},
   "outputs": [],
   "source": [
    "import geo"
   ]
  },
  {
   "cell_type": "code",
   "execution_count": 33,
   "metadata": {},
   "outputs": [
    {
     "data": {
      "text/plain": [
       "['',\n",
       " 'C:\\\\Users\\\\adsar\\\\Anaconda3\\\\python36.zip',\n",
       " 'C:\\\\Users\\\\adsar\\\\Anaconda3\\\\DLLs',\n",
       " 'C:\\\\Users\\\\adsar\\\\Anaconda3\\\\lib',\n",
       " 'C:\\\\Users\\\\adsar\\\\Anaconda3',\n",
       " 'C:\\\\Users\\\\adsar\\\\Anaconda3\\\\lib\\\\site-packages',\n",
       " 'C:\\\\Users\\\\adsar\\\\Anaconda3\\\\lib\\\\site-packages\\\\win32',\n",
       " 'C:\\\\Users\\\\adsar\\\\Anaconda3\\\\lib\\\\site-packages\\\\win32\\\\lib',\n",
       " 'C:\\\\Users\\\\adsar\\\\Anaconda3\\\\lib\\\\site-packages\\\\Pythonwin',\n",
       " 'C:\\\\Users\\\\adsar\\\\Anaconda3\\\\lib\\\\site-packages\\\\IPython\\\\extensions',\n",
       " 'C:\\\\Users\\\\adsar\\\\.ipython']"
      ]
     },
     "execution_count": 33,
     "metadata": {},
     "output_type": "execute_result"
    }
   ],
   "source": [
    "import sys\n",
    "sys.path"
   ]
  },
  {
   "cell_type": "code",
   "execution_count": 34,
   "metadata": {},
   "outputs": [],
   "source": [
    "geo??"
   ]
  },
  {
   "cell_type": "code",
   "execution_count": 35,
   "metadata": {},
   "outputs": [],
   "source": [
    "from geo import circle_dist"
   ]
  },
  {
   "cell_type": "code",
   "execution_count": 36,
   "metadata": {},
   "outputs": [],
   "source": [
    "lat1, lng1 = df.iloc[0].lat, df.iloc[0].lng\n",
    "lat2, lng2 = df.iloc[1].lat, df.iloc[1].lng"
   ]
  },
  {
   "cell_type": "code",
   "execution_count": 37,
   "metadata": {},
   "outputs": [
    {
     "data": {
      "text/plain": [
       "0.007693931535344109"
      ]
     },
     "execution_count": 37,
     "metadata": {},
     "output_type": "execute_result"
    }
   ],
   "source": [
    "circle_dist(lat1, lng1, lat2, lng2)"
   ]
  },
  {
   "cell_type": "markdown",
   "metadata": {},
   "source": [
    "# shift series"
   ]
  },
  {
   "cell_type": "code",
   "execution_count": 38,
   "metadata": {},
   "outputs": [],
   "source": [
    "s = pd.Series(np.arange(5))"
   ]
  },
  {
   "cell_type": "code",
   "execution_count": 39,
   "metadata": {},
   "outputs": [
    {
     "data": {
      "text/plain": [
       "0    0\n",
       "1    1\n",
       "2    2\n",
       "3    3\n",
       "4    4\n",
       "dtype: int32"
      ]
     },
     "execution_count": 39,
     "metadata": {},
     "output_type": "execute_result"
    }
   ],
   "source": [
    "s"
   ]
  },
  {
   "cell_type": "code",
   "execution_count": 40,
   "metadata": {},
   "outputs": [
    {
     "data": {
      "text/plain": [
       "0    NaN\n",
       "1    0.0\n",
       "2    1.0\n",
       "3    2.0\n",
       "4    3.0\n",
       "dtype: float64"
      ]
     },
     "execution_count": 40,
     "metadata": {},
     "output_type": "execute_result"
    }
   ],
   "source": [
    "s.shift()"
   ]
  },
  {
   "cell_type": "code",
   "execution_count": 41,
   "metadata": {},
   "outputs": [
    {
     "data": {
      "text/plain": [
       "0    1.0\n",
       "1    2.0\n",
       "2    3.0\n",
       "3    4.0\n",
       "4    NaN\n",
       "dtype: float64"
      ]
     },
     "execution_count": 41,
     "metadata": {},
     "output_type": "execute_result"
    }
   ],
   "source": [
    "s.shift(-1)"
   ]
  },
  {
   "cell_type": "code",
   "execution_count": 42,
   "metadata": {},
   "outputs": [],
   "source": [
    "dist = circle_dist(df.lat, df.lng,df.lat.shift(), df.lng.shift())"
   ]
  },
  {
   "cell_type": "code",
   "execution_count": 43,
   "metadata": {},
   "outputs": [
    {
     "data": {
      "text/plain": [
       "time\n",
       "2015-08-20 03:48:07.235         NaN\n",
       "2015-08-20 03:48:24.734    0.007694\n",
       "2015-08-20 03:48:25.660    0.009248\n",
       "2015-08-20 03:48:26.819    0.006479\n",
       "2015-08-20 03:48:27.828    0.006219\n",
       "2015-08-20 03:48:29.720    0.008010\n",
       "2015-08-20 03:48:30.669    0.006533\n",
       "2015-08-20 03:48:33.793    0.010545\n",
       "2015-08-20 03:48:34.869    0.002759\n",
       "2015-08-20 03:48:37.708    0.007336\n",
       "dtype: float64"
      ]
     },
     "execution_count": 43,
     "metadata": {},
     "output_type": "execute_result"
    }
   ],
   "source": [
    "dist[:10]"
   ]
  },
  {
   "cell_type": "code",
   "execution_count": 44,
   "metadata": {},
   "outputs": [
    {
     "data": {
      "text/plain": [
       "4.688135968432568"
      ]
     },
     "execution_count": 44,
     "metadata": {},
     "output_type": "execute_result"
    }
   ],
   "source": [
    "dist.sum()"
   ]
  },
  {
   "cell_type": "code",
   "execution_count": 45,
   "metadata": {},
   "outputs": [
    {
     "data": {
      "text/plain": [
       "time\n",
       "2015-08-20 03:48:07.235               NaT\n",
       "2015-08-20 03:48:24.734   00:00:17.499000\n",
       "2015-08-20 03:48:25.660   00:00:00.926000\n",
       "2015-08-20 03:48:26.819   00:00:01.159000\n",
       "2015-08-20 03:48:27.828   00:00:01.009000\n",
       "Name: time, dtype: timedelta64[ns]"
      ]
     },
     "execution_count": 45,
     "metadata": {},
     "output_type": "execute_result"
    }
   ],
   "source": [
    "dt = df['time'] - df['time'].shift()\n",
    "dt[:5]"
   ]
  },
  {
   "cell_type": "code",
   "execution_count": 46,
   "metadata": {},
   "outputs": [
    {
     "data": {
      "text/plain": [
       "Timedelta('0 days 00:32:35.094000')"
      ]
     },
     "execution_count": 46,
     "metadata": {},
     "output_type": "execute_result"
    }
   ],
   "source": [
    "dt.sum()"
   ]
  },
  {
   "cell_type": "code",
   "execution_count": 47,
   "metadata": {},
   "outputs": [],
   "source": [
    "# dist/dt # error"
   ]
  },
  {
   "cell_type": "code",
   "execution_count": 48,
   "metadata": {},
   "outputs": [
    {
     "data": {
      "text/plain": [
       "17.499"
      ]
     },
     "execution_count": 48,
     "metadata": {},
     "output_type": "execute_result"
    }
   ],
   "source": [
    "dt[1].total_seconds()"
   ]
  },
  {
   "cell_type": "code",
   "execution_count": 49,
   "metadata": {},
   "outputs": [
    {
     "data": {
      "text/plain": [
       "0.004860833333333333"
      ]
     },
     "execution_count": 49,
     "metadata": {},
     "output_type": "execute_result"
    }
   ],
   "source": [
    "dt[1]/ np.timedelta64(1,'h')"
   ]
  },
  {
   "cell_type": "code",
   "execution_count": 50,
   "metadata": {},
   "outputs": [
    {
     "data": {
      "text/plain": [
       "0.004860833333333333"
      ]
     },
     "execution_count": 50,
     "metadata": {},
     "output_type": "execute_result"
    }
   ],
   "source": [
    "dt[1].total_seconds()/3600"
   ]
  },
  {
   "cell_type": "code",
   "execution_count": 51,
   "metadata": {},
   "outputs": [],
   "source": [
    "speed = dist/(dt/np.timedelta64(1,'h'))"
   ]
  },
  {
   "cell_type": "code",
   "execution_count": 52,
   "metadata": {},
   "outputs": [
    {
     "data": {
      "text/plain": [
       "time\n",
       "2015-08-20 03:48:07.235          NaN\n",
       "2015-08-20 03:48:24.734     1.582842\n",
       "2015-08-20 03:48:25.660    35.954340\n",
       "2015-08-20 03:48:26.819    20.123165\n",
       "2015-08-20 03:48:27.828    22.187213\n",
       "2015-08-20 03:48:29.720    15.241680\n",
       "2015-08-20 03:48:30.669    24.783839\n",
       "2015-08-20 03:48:33.793    12.151207\n",
       "2015-08-20 03:48:34.869     9.230505\n",
       "2015-08-20 03:48:37.708     9.302060\n",
       "dtype: float64"
      ]
     },
     "execution_count": 52,
     "metadata": {},
     "output_type": "execute_result"
    }
   ],
   "source": [
    "speed[:10]"
   ]
  },
  {
   "cell_type": "code",
   "execution_count": 53,
   "metadata": {},
   "outputs": [],
   "source": [
    "df['dist'] = dist\n",
    "df['dt'] = dt"
   ]
  },
  {
   "cell_type": "code",
   "execution_count": 54,
   "metadata": {},
   "outputs": [],
   "source": [
    "df1m = df.resample('1min').sum()"
   ]
  },
  {
   "cell_type": "code",
   "execution_count": 55,
   "metadata": {},
   "outputs": [
    {
     "data": {
      "text/plain": [
       "DatetimeIndex(['2015-08-20 03:48:00', '2015-08-20 03:49:00',\n",
       "               '2015-08-20 03:50:00', '2015-08-20 03:51:00',\n",
       "               '2015-08-20 03:52:00', '2015-08-20 03:53:00',\n",
       "               '2015-08-20 03:54:00', '2015-08-20 03:55:00',\n",
       "               '2015-08-20 03:56:00', '2015-08-20 03:57:00',\n",
       "               '2015-08-20 03:58:00', '2015-08-20 03:59:00',\n",
       "               '2015-08-20 04:00:00', '2015-08-20 04:01:00',\n",
       "               '2015-08-20 04:02:00', '2015-08-20 04:03:00',\n",
       "               '2015-08-20 04:04:00', '2015-08-20 04:05:00',\n",
       "               '2015-08-20 04:06:00', '2015-08-20 04:07:00',\n",
       "               '2015-08-20 04:08:00', '2015-08-20 04:09:00',\n",
       "               '2015-08-20 04:10:00', '2015-08-20 04:11:00',\n",
       "               '2015-08-20 04:12:00', '2015-08-20 04:13:00',\n",
       "               '2015-08-20 04:14:00', '2015-08-20 04:15:00',\n",
       "               '2015-08-20 04:16:00', '2015-08-20 04:17:00',\n",
       "               '2015-08-20 04:18:00', '2015-08-20 04:19:00',\n",
       "               '2015-08-20 04:20:00'],\n",
       "              dtype='datetime64[ns]', name='time', freq='T')"
      ]
     },
     "execution_count": 55,
     "metadata": {},
     "output_type": "execute_result"
    }
   ],
   "source": [
    "df1m.index"
   ]
  },
  {
   "cell_type": "code",
   "execution_count": 56,
   "metadata": {},
   "outputs": [],
   "source": [
    "# speed = df1m['dist']/ (df1m['dt']/np.timedelta64(1,'h'))"
   ]
  },
  {
   "cell_type": "code",
   "execution_count": 57,
   "metadata": {},
   "outputs": [
    {
     "data": {
      "text/plain": [
       "Index(['lat', 'lng', 'height', 'dist'], dtype='object')"
      ]
     },
     "execution_count": 57,
     "metadata": {},
     "output_type": "execute_result"
    }
   ],
   "source": [
    "df1m.columns"
   ]
  },
  {
   "cell_type": "code",
   "execution_count": 58,
   "metadata": {},
   "outputs": [],
   "source": [
    "df['dt'] = dt/np.timedelta64(1,'h')\n",
    "df1m = df.resample('1min').sum()\n",
    "speed1m = df1m['dist']/df1m['dt']"
   ]
  },
  {
   "cell_type": "code",
   "execution_count": 59,
   "metadata": {},
   "outputs": [
    {
     "data": {
      "text/plain": [
       "time\n",
       "2015-08-20 03:48:00     8.127118\n",
       "2015-08-20 03:49:00     7.579874\n",
       "2015-08-20 03:50:00     9.127972\n",
       "2015-08-20 03:51:00    10.220818\n",
       "2015-08-20 03:52:00    10.114279\n",
       "2015-08-20 03:53:00     9.687690\n",
       "2015-08-20 03:54:00    10.856446\n",
       "2015-08-20 03:55:00    10.892145\n",
       "2015-08-20 03:56:00    10.270580\n",
       "2015-08-20 03:57:00     6.629397\n",
       "Freq: T, dtype: float64"
      ]
     },
     "execution_count": 59,
     "metadata": {},
     "output_type": "execute_result"
    }
   ],
   "source": [
    "speed1m[:10]"
   ]
  },
  {
   "cell_type": "markdown",
   "metadata": {},
   "source": [
    "# describe method"
   ]
  },
  {
   "cell_type": "code",
   "execution_count": 60,
   "metadata": {},
   "outputs": [
    {
     "data": {
      "text/plain": [
       "count    33.000000\n",
       "mean      8.658214\n",
       "std       1.543214\n",
       "min       5.285595\n",
       "25%       7.543402\n",
       "50%       8.538120\n",
       "75%      10.220818\n",
       "max      10.892145\n",
       "dtype: float64"
      ]
     },
     "execution_count": 60,
     "metadata": {},
     "output_type": "execute_result"
    }
   ],
   "source": [
    "speed1m.describe()"
   ]
  },
  {
   "cell_type": "markdown",
   "metadata": {},
   "source": [
    "# Working with matplotlib"
   ]
  },
  {
   "cell_type": "code",
   "execution_count": 61,
   "metadata": {},
   "outputs": [],
   "source": [
    "%matplotlib inline"
   ]
  },
  {
   "cell_type": "markdown",
   "metadata": {},
   "source": [
    "inline to tell that results should be displayed in jupyter"
   ]
  },
  {
   "cell_type": "code",
   "execution_count": 62,
   "metadata": {},
   "outputs": [
    {
     "data": {
      "text/plain": [
       "<matplotlib.axes._subplots.AxesSubplot at 0x195717f52b0>"
      ]
     },
     "execution_count": 62,
     "metadata": {},
     "output_type": "execute_result"
    },
    {
     "data": {
      "image/png": "[encoded data removed]",
      "text/plain": [
       "<Figure size 432x288 with 1 Axes>"
      ]
     },
     "metadata": {
      "needs_background": "light"
     },
     "output_type": "display_data"
    }
   ],
   "source": [
    "speed1m.plot()"
   ]
  },
  {
   "cell_type": "code",
   "execution_count": 63,
   "metadata": {},
   "outputs": [],
   "source": [
    "import matplotlib.pyplot as plt"
   ]
  },
  {
   "cell_type": "code",
   "execution_count": 64,
   "metadata": {},
   "outputs": [],
   "source": [
    "plt.rcParams['figure.figsize'] = (10,6)"
   ]
  },
  {
   "cell_type": "code",
   "execution_count": 65,
   "metadata": {},
   "outputs": [],
   "source": [
    "plt.style.use('seaborn-whitegrid')"
   ]
  },
  {
   "cell_type": "code",
   "execution_count": 66,
   "metadata": {},
   "outputs": [
    {
     "data": {
      "text/plain": [
       "<matplotlib.axes._subplots.AxesSubplot at 0x19571afc780>"
      ]
     },
     "execution_count": 66,
     "metadata": {},
     "output_type": "execute_result"
    },
    {
     "data": {
      "image/png": "[encoded data removed]",
      "text/plain": [
       "<Figure size 720x432 with 1 Axes>"
      ]
     },
     "metadata": {},
     "output_type": "display_data"
    }
   ],
   "source": [
    "speed1m.plot()"
   ]
  },
  {
   "cell_type": "code",
   "execution_count": 67,
   "metadata": {},
   "outputs": [
    {
     "data": {
      "text/plain": [
       "<matplotlib.axes._subplots.AxesSubplot at 0x19571b7c5f8>"
      ]
     },
     "execution_count": 67,
     "metadata": {},
     "output_type": "execute_result"
    },
    {
     "data": {
      "image/png": "[encoded data removed]",
      "text/plain": [
       "<Figure size 720x432 with 1 Axes>"
      ]
     },
     "metadata": {},
     "output_type": "display_data"
    }
   ],
   "source": [
    "speed1m.plot.box()"
   ]
  },
  {
   "cell_type": "code",
   "execution_count": 68,
   "metadata": {},
   "outputs": [],
   "source": [
    "import folium"
   ]
  },
  {
   "cell_type": "code",
   "execution_count": 69,
   "metadata": {},
   "outputs": [],
   "source": [
    "import pymongo"
   ]
  },
  {
   "cell_type": "code",
   "execution_count": 86,
   "metadata": {},
   "outputs": [
    {
     "data": {
      "text/html": [
       "<div style=\"width:100%;\"><div style=\"position:relative;width:100%;height:0;padding-bottom:60%;\"><iframe src=\"data:text/html;charset=utf-8;base64,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\" style=\"position:absolute;width:100%;height:100%;left:0;top:0;border:none !important;\" allowfullscreen webkitallowfullscreen mozallowfullscreen></iframe></div></div>"
      ],
      "text/plain": [
       "<folium.folium.Map at 0x1957548a908>"
      ]
     },
     "execution_count": 86,
     "metadata": {},
     "output_type": "execute_result"
    }
   ],
   "source": [
    "m = folium.Map(location=[df['lng'].mean(),df['lat'].mean()], zoom_start = 15)\n",
    "mdf = df.resample('T').mean()\n",
    "def add_marker(row):\n",
    "    marker = folium.CircleMarker([row['lng'], row['lat']], radius=5, color='red', popup=row.name.strftime('%H:%M'))\n",
    "    marker.add_to(m)\n",
    "#row = df.iloc[321]\n",
    "mdf.apply(add_marker, axis=1)\n",
    "#add_marker(row)\n",
    "m"
   ]
  },
  {
   "cell_type": "markdown",
   "metadata": {},
   "source": [
    "# shapley library"
   ]
  },
  {
   "cell_type": "code",
   "execution_count": 95,
   "metadata": {},
   "outputs": [],
   "source": [
    "from shapely.geometry import Point, Polygon"
   ]
  },
  {
   "cell_type": "code",
   "execution_count": 96,
   "metadata": {},
   "outputs": [],
   "source": [
    "pt = Point(1,2)"
   ]
  },
  {
   "cell_type": "code",
   "execution_count": 97,
   "metadata": {},
   "outputs": [
    {
     "data": {
      "image/svg+xml": [
       "<svg xmlns=\"http://www.w3.org/2000/svg\" xmlns:xlink=\"http://www.w3.org/1999/xlink\" width=\"100.0\" height=\"100.0\" viewBox=\"0.0 1.0 2.0 2.0\" preserveAspectRatio=\"xMinYMin meet\"><g transform=\"matrix(1,0,0,-1,0,4.0)\"><circle cx=\"1.0\" cy=\"2.0\" r=\"0.06\" stroke=\"#555555\" stroke-width=\"0.02\" fill=\"#66cc99\" opacity=\"0.6\" /></g></svg>"
      ],
      "text/plain": [
       "<shapely.geometry.point.Point at 0x1957565a908>"
      ]
     },
     "execution_count": 97,
     "metadata": {},
     "output_type": "execute_result"
    }
   ],
   "source": [
    "pt"
   ]
  },
  {
   "cell_type": "code",
   "execution_count": 98,
   "metadata": {},
   "outputs": [
    {
     "data": {
      "text/plain": [
       "1.0"
      ]
     },
     "execution_count": 98,
     "metadata": {},
     "output_type": "execute_result"
    }
   ],
   "source": [
    "pt.x"
   ]
  },
  {
   "cell_type": "code",
   "execution_count": 101,
   "metadata": {},
   "outputs": [],
   "source": [
    "poly = Polygon([[0,0], [0,10], [10,10], [10,0]])"
   ]
  },
  {
   "cell_type": "code",
   "execution_count": 102,
   "metadata": {},
   "outputs": [
    {
     "data": {
      "text/plain": [
       "100.0"
      ]
     },
     "execution_count": 102,
     "metadata": {},
     "output_type": "execute_result"
    }
   ],
   "source": [
    "poly.area"
   ]
  },
  {
   "cell_type": "code",
   "execution_count": 103,
   "metadata": {},
   "outputs": [
    {
     "data": {
      "text/plain": [
       "True"
      ]
     },
     "execution_count": 103,
     "metadata": {},
     "output_type": "execute_result"
    }
   ],
   "source": [
    "poly.intersects(pt)"
   ]
  },
  {
   "cell_type": "code",
   "execution_count": 104,
   "metadata": {},
   "outputs": [
    {
     "data": {
      "text/plain": [
       "False"
      ]
     },
     "execution_count": 104,
     "metadata": {},
     "output_type": "execute_result"
    }
   ],
   "source": [
    "poly.intersects(Point(10,20))"
   ]
  },
  {
   "cell_type": "code",
   "execution_count": 106,
   "metadata": {},
   "outputs": [
    {
     "data": {
      "text/html": [
       "<div>\n",
       "<style scoped>\n",
       "    .dataframe tbody tr th:only-of-type {\n",
       "        vertical-align: middle;\n",
       "    }\n",
       "\n",
       "    .dataframe tbody tr th {\n",
       "        vertical-align: top;\n",
       "    }\n",
       "\n",
       "    .dataframe thead th {\n",
       "        text-align: right;\n",
       "    }\n",
       "</style>\n",
       "<table border=\"1\" class=\"dataframe\">\n",
       "  <thead>\n",
       "    <tr style=\"text-align: right;\">\n",
       "      <th></th>\n",
       "      <th>lat</th>\n",
       "      <th>lng</th>\n",
       "      <th>height</th>\n",
       "      <th>dist</th>\n",
       "      <th>dt</th>\n",
       "      <th>pt</th>\n",
       "    </tr>\n",
       "    <tr>\n",
       "      <th>time</th>\n",
       "      <th></th>\n",
       "      <th></th>\n",
       "      <th></th>\n",
       "      <th></th>\n",
       "      <th></th>\n",
       "      <th></th>\n",
       "    </tr>\n",
       "  </thead>\n",
       "  <tbody>\n",
       "    <tr>\n",
       "      <th>2015-08-20 03:48:00</th>\n",
       "      <td>35.014571</td>\n",
       "      <td>32.519485</td>\n",
       "      <td>122.766666</td>\n",
       "      <td>0.005918</td>\n",
       "      <td>0.000728</td>\n",
       "      <td>POINT (32.51948457142857 35.01457057142857)</td>\n",
       "    </tr>\n",
       "    <tr>\n",
       "      <th>2015-08-20 03:49:00</th>\n",
       "      <td>35.014316</td>\n",
       "      <td>32.518971</td>\n",
       "      <td>122.966667</td>\n",
       "      <td>0.005670</td>\n",
       "      <td>0.000748</td>\n",
       "      <td>POINT (32.51897133333333 35.01431633333333)</td>\n",
       "    </tr>\n",
       "    <tr>\n",
       "      <th>2015-08-20 03:50:00</th>\n",
       "      <td>35.014055</td>\n",
       "      <td>32.517258</td>\n",
       "      <td>114.573913</td>\n",
       "      <td>0.012125</td>\n",
       "      <td>0.001328</td>\n",
       "      <td>POINT (32.51725782608695 35.0140552173913)</td>\n",
       "    </tr>\n",
       "    <tr>\n",
       "      <th>2015-08-20 03:51:00</th>\n",
       "      <td>35.013864</td>\n",
       "      <td>32.516264</td>\n",
       "      <td>106.653334</td>\n",
       "      <td>0.005682</td>\n",
       "      <td>0.000556</td>\n",
       "      <td>POINT (32.5162645 35.01386383333332)</td>\n",
       "    </tr>\n",
       "    <tr>\n",
       "      <th>2015-08-20 03:52:00</th>\n",
       "      <td>35.012744</td>\n",
       "      <td>32.515141</td>\n",
       "      <td>97.710000</td>\n",
       "      <td>0.005705</td>\n",
       "      <td>0.000564</td>\n",
       "      <td>POINT (32.51514063333333 35.0127444)</td>\n",
       "    </tr>\n",
       "  </tbody>\n",
       "</table>\n",
       "</div>"
      ],
      "text/plain": [
       "                           lat        lng      height      dist        dt  \\\n",
       "time                                                                        \n",
       "2015-08-20 03:48:00  35.014571  32.519485  122.766666  0.005918  0.000728   \n",
       "2015-08-20 03:49:00  35.014316  32.518971  122.966667  0.005670  0.000748   \n",
       "2015-08-20 03:50:00  35.014055  32.517258  114.573913  0.012125  0.001328   \n",
       "2015-08-20 03:51:00  35.013864  32.516264  106.653334  0.005682  0.000556   \n",
       "2015-08-20 03:52:00  35.012744  32.515141   97.710000  0.005705  0.000564   \n",
       "\n",
       "                                                              pt  \n",
       "time                                                              \n",
       "2015-08-20 03:48:00  POINT (32.51948457142857 35.01457057142857)  \n",
       "2015-08-20 03:49:00  POINT (32.51897133333333 35.01431633333333)  \n",
       "2015-08-20 03:50:00   POINT (32.51725782608695 35.0140552173913)  \n",
       "2015-08-20 03:51:00         POINT (32.5162645 35.01386383333332)  \n",
       "2015-08-20 03:52:00         POINT (32.51514063333333 35.0127444)  "
      ]
     },
     "execution_count": 106,
     "metadata": {},
     "output_type": "execute_result"
    }
   ],
   "source": [
    "mdf['pt'] = mdf[['lng', 'lat']].apply(Point, axis=1)\n",
    "mdf.head()"
   ]
  },
  {
   "cell_type": "code",
   "execution_count": 110,
   "metadata": {},
   "outputs": [],
   "source": [
    "mean_lng,max_lng = mdf['lng'].mean(), mdf['lng'].max()\n",
    "mean_lat,max_lat = mdf['lat'].mean(), mdf['lat'].max()"
   ]
  },
  {
   "cell_type": "code",
   "execution_count": 111,
   "metadata": {},
   "outputs": [],
   "source": [
    "poly = Polygon([\n",
    "    [mean_lng, mean_lat],\n",
    "    [mean_lng, max_lat],\n",
    "    [max_lng, max_lat],\n",
    "    [max_lng, mean_lat]\n",
    "])"
   ]
  },
  {
   "cell_type": "code",
   "execution_count": 112,
   "metadata": {},
   "outputs": [
    {
     "data": {
      "text/plain": [
       "(array('d', [32.5123189947394, 32.5123189947394, 32.51948457142857, 32.51948457142857, 32.5123189947394]),\n",
       " array('d', [35.01567806812503, 35.02252776190477, 35.02252776190477, 35.01567806812503, 35.01567806812503]))"
      ]
     },
     "execution_count": 112,
     "metadata": {},
     "output_type": "execute_result"
    }
   ],
   "source": [
    "poly.exterior.xy"
   ]
  },
  {
   "cell_type": "code",
   "execution_count": 113,
   "metadata": {},
   "outputs": [],
   "source": [
    "import numpy as np"
   ]
  },
  {
   "cell_type": "code",
   "execution_count": 115,
   "metadata": {},
   "outputs": [
    {
     "data": {
      "text/plain": [
       "array([[32.51231899, 35.01567807],\n",
       "       [32.51231899, 35.02252776],\n",
       "       [32.51948457, 35.02252776],\n",
       "       [32.51948457, 35.01567807],\n",
       "       [32.51231899, 35.01567807]])"
      ]
     },
     "execution_count": 115,
     "metadata": {},
     "output_type": "execute_result"
    }
   ],
   "source": [
    "np.stack(poly.exterior.xy).T"
   ]
  },
  {
   "cell_type": "code",
   "execution_count": 123,
   "metadata": {},
   "outputs": [
    {
     "data": {
      "text/html": [
       "<div style=\"width:100%;\"><div style=\"position:relative;width:100%;height:0;padding-bottom:60%;\"><iframe src=\"data:text/html;charset=utf-8;base64,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\" style=\"position:absolute;width:100%;height:100%;left:0;top:0;border:none !important;\" allowfullscreen webkitallowfullscreen mozallowfullscreen></iframe></div></div>"
      ],
      "text/plain": [
       "<folium.folium.Map at 0x1957589e668>"
      ]
     },
     "execution_count": 123,
     "metadata": {},
     "output_type": "execute_result"
    }
   ],
   "source": [
    "m = folium.Map(location=[df['lng'].mean(),df['lat'].mean()], zoom_start = 15)\n",
    "mdf = df.resample('T').mean()\n",
    "mdf['pt'] = mdf[['lng', 'lat']].apply(Point, axis=1)\n",
    "def add_marker(row):\n",
    "    color = 'yellow' if poly.intersects(row['pt']) else 'green'\n",
    "    marker = folium.CircleMarker([row['lng'], row['lat']], radius=5,fill_opacity=1.0, color='red', popup=row.name.strftime('%H:%M'), fill_color=color)\n",
    "    marker.add_to(m)\n",
    "m.add_child(folium.PolyLine(np.stack(poly.exterior.xy).T, color='blue'))\n",
    "mdf.apply(add_marker, axis=1)\n",
    "m"
   ]
  },
  {
   "cell_type": "code",
   "execution_count": null,
   "metadata": {},
   "outputs": [],
   "source": []
  }
 ],
 "metadata": {
  "kernelspec": {
   "display_name": "Python 3",
   "language": "python",
   "name": "python3"
  },
  "language_info": {
   "codemirror_mode": {
    "name": "ipython",
    "version": 3
   },
   "file_extension": ".py",
   "mimetype": "text/x-python",
   "name": "python",
   "nbconvert_exporter": "python",
   "pygments_lexer": "ipython3",
   "version": "3.6.7"
  }
 },
 "nbformat": 4,
 "nbformat_minor": 2
}
