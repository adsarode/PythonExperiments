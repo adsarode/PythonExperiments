{
 "cells": [
  {
   "cell_type": "code",
   "execution_count": 4,
   "metadata": {},
   "outputs": [],
   "source": [
    "outFile = open(\"C:/Users/adsar/Desktop/DateTimeRemoved.txt\", 'w', encoding='utf-8')\n",
    "for line in open(\"C:/Users/adsar/Desktop/WhatsAppGroupChat.txt\", 'r', encoding='utf-8'):\n",
    "    if line.find('M - '):\n",
    "        head, sep, tail = line.partition('M - ')\n",
    "        outFile.write(tail)\n",
    "    else:\n",
    "        outFile.write(line)"
   ]
  },
  {
   "cell_type": "code",
   "execution_count": null,
   "metadata": {},
   "outputs": [],
   "source": []
  }
 ],
 "metadata": {
  "kernelspec": {
   "display_name": "Python 3",
   "language": "python",
   "name": "python3"
  },
  "language_info": {
   "codemirror_mode": {
    "name": "ipython",
    "version": 3
   },
   "file_extension": ".py",
   "mimetype": "text/x-python",
   "name": "python",
   "nbconvert_exporter": "python",
   "pygments_lexer": "ipython3",
   "version": "3.6.7"
  }
 },
 "nbformat": 4,
 "nbformat_minor": 2
}
